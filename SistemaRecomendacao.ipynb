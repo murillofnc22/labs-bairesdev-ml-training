{
  "nbformat": 4,
  "nbformat_minor": 0,
  "metadata": {
    "colab": {
      "provenance": [],
      "gpuType": "T4",
      "authorship_tag": "ABX9TyP+QyYSLQECnYzriB8pz6r9",
      "include_colab_link": true
    },
    "kernelspec": {
      "name": "python3",
      "display_name": "Python 3"
    },
    "language_info": {
      "name": "python"
    },
    "accelerator": "GPU"
  },
  "cells": [
    {
      "cell_type": "markdown",
      "metadata": {
        "id": "view-in-github",
        "colab_type": "text"
      },
      "source": [
        "<a href=\"https://colab.research.google.com/github/murillofnc22/labs-bairesdev-ml-training/blob/main/SistemaRecomendacao.ipynb\" target=\"_parent\"><img src=\"https://colab.research.google.com/assets/colab-badge.svg\" alt=\"Open In Colab\"/></a>"
      ]
    },
    {
      "cell_type": "code",
      "source": [
        "# Instalação de dependências\n",
        "!pip install -q tensorflow tensorflow_hub annoy pandas tqdm"
      ],
      "metadata": {
        "id": "vqSEVNEIylCt"
      },
      "execution_count": 55,
      "outputs": []
    },
    {
      "cell_type": "code",
      "source": [
        "# Importações necessárias\n",
        "import tensorflow as tf\n",
        "import tensorflow_hub as hub\n",
        "import numpy as np\n",
        "import pandas as pd\n",
        "import os\n",
        "from pathlib import Path\n",
        "from tqdm import tqdm\n",
        "from annoy import AnnoyIndex\n",
        "import matplotlib.pyplot as plt\n",
        "import matplotlib.image as mpimg\n",
        "from shutil import move\n",
        "import random\n",
        "\n",
        "print(\"TF version:\", tf.__version__)\n",
        "print(\"Hub version:\", hub.__version__)\n",
        "print(\"GPU is\", \"available\" if tf.config.list_physical_devices('GPU') else \"NOT AVAILABLE\")\n",
        "\n",
        "# Configurações\n",
        "IMAGE_SIZE = (224, 224)\n",
        "BATCH_SIZE = 32\n",
        "N_FEATURES = 1280  # MobileNetV2 tem 1280 features"
      ],
      "metadata": {
        "colab": {
          "base_uri": "https://localhost:8080/"
        },
        "id": "nprjLwnnyoXA",
        "outputId": "1c270fad-b49b-4cb7-eafc-19485cda3d64"
      },
      "execution_count": 56,
      "outputs": [
        {
          "output_type": "stream",
          "name": "stdout",
          "text": [
            "TF version: 2.19.0\n",
            "Hub version: 0.16.1\n",
            "GPU is available\n"
          ]
        }
      ]
    },
    {
      "cell_type": "code",
      "execution_count": 57,
      "metadata": {
        "id": "n-pdcVo-kXoN"
      },
      "outputs": [],
      "source": [
        "\n",
        "# 1. Aquisição e preparação dos dados\n",
        "def prepare_fashion_dataset():\n",
        "    \"\"\"Prepara o dataset de moda\"\"\"\n",
        "    !unzip -q /content/fashion-product-images-small.zip\n",
        "\n",
        "    # Criar estrutura de diretórios\n",
        "    os.makedirs('/content/Fashion_data/categories', exist_ok=True)\n",
        "\n",
        "    # Ler metadados\n",
        "    df = pd.read_csv('/content/styles.csv', usecols=['id','masterCategory']).reset_index()\n",
        "    df['id'] = df['id'].astype('str')\n",
        "\n",
        "    # Mover imagens para categorias\n",
        "    all_images = os.listdir('/content/images/')\n",
        "    for image in tqdm(all_images):\n",
        "        try:\n",
        "            category = df[df['id'] == image.split('.')[0]]['masterCategory'].values[0]\n",
        "            category_dir = os.path.join('/content/Fashion_data/categories', category)\n",
        "            os.makedirs(category_dir, exist_ok=True)\n",
        "\n",
        "            path_from = os.path.join('/content/images', image)\n",
        "            path_to = os.path.join(category_dir, image)\n",
        "            move(path_from, path_to)\n",
        "        except:\n",
        "            continue\n",
        "\n",
        "    print('Preparação do dataset concluída!')\n",
        "\n",
        "# 2. CORREÇÃO: Carregar/criar extrator de características\n",
        "def create_feature_extractor():\n",
        "    \"\"\"Cria o extrator de características usando MobileNet\"\"\"\n",
        "    # Método alternativo que funciona com versões recentes do TF\n",
        "    try:\n",
        "        # Tentativa 1: Usar a abordagem funcional\n",
        "        model_url = \"https://tfhub.dev/google/tf2-preview/mobilenet_v2/feature_vector/4\"\n",
        "\n",
        "        # Criar modelo usando a API funcional\n",
        "        input_layer = tf.keras.layers.Input(shape=IMAGE_SIZE + (3,))\n",
        "        hub_layer = hub.KerasLayer(model_url, input_shape=IMAGE_SIZE + (3,), trainable=False)\n",
        "        x = hub_layer(input_layer)\n",
        "        x = tf.keras.layers.Dropout(rate=0.2)(x)\n",
        "\n",
        "        model = tf.keras.Model(inputs=input_layer, outputs=x)\n",
        "        return model\n",
        "\n",
        "    except Exception as e:\n",
        "        print(f\"Erro com abordagem funcional: {e}\")\n",
        "\n",
        "        # Tentativa 2: Usar modelo pré-carregado\n",
        "        try:\n",
        "            print(\"Tentando abordagem alternativa...\")\n",
        "            model = tf.keras.Sequential([\n",
        "                tf.keras.layers.InputLayer(input_shape=IMAGE_SIZE + (3,)),\n",
        "                tf.keras.layers.Lambda(lambda x: x / 255.0),  # Normalização\n",
        "                tf.keras.applications.MobileNetV2(\n",
        "                    input_shape=IMAGE_SIZE + (3,),\n",
        "                    include_top=False,\n",
        "                    weights='imagenet',\n",
        "                    pooling='avg'  # Global average pooling\n",
        "                )\n",
        "            ])\n",
        "            return model\n",
        "\n",
        "        except Exception as e2:\n",
        "            print(f\"Erro com MobileNetV2 nativo: {e2}\")\n",
        "\n",
        "            # Tentativa 3: Modelo mais simples\n",
        "            print(\"Usando modelo simplificado...\")\n",
        "            model = tf.keras.Sequential([\n",
        "                tf.keras.layers.InputLayer(input_shape=IMAGE_SIZE + (3,)),\n",
        "                tf.keras.layers.Lambda(lambda x: x / 255.0),\n",
        "                tf.keras.layers.Conv2D(32, (3, 3), activation='relu'),\n",
        "                tf.keras.layers.MaxPooling2D((2, 2)),\n",
        "                tf.keras.layers.Conv2D(64, (3, 3), activation='relu'),\n",
        "                tf.keras.layers.MaxPooling2D((2, 2)),\n",
        "                tf.keras.layers.Conv2D(64, (3, 3), activation='relu'),\n",
        "                tf.keras.layers.GlobalAveragePooling2D(),\n",
        "                tf.keras.layers.Dense(512, activation='relu')\n",
        "            ])\n",
        "            return model\n",
        "\n",
        "# 3. Processar imagens e gerar embeddings\n",
        "def process_images_and_generate_embeddings(feature_extractor, image_dir):\n",
        "    \"\"\"Processa imagens e gera embeddings\"\"\"\n",
        "    image_paths = []\n",
        "    embeddings = []\n",
        "\n",
        "    # Coletar paths das imagens\n",
        "    for path in Path(image_dir).rglob('*.jpg'):\n",
        "        image_paths.append(str(path))\n",
        "\n",
        "    # Limitar número de imagens para teste\n",
        "    image_paths = image_paths[:300]  # Processar apenas 300 imagens para teste\n",
        "\n",
        "    # Processar em lotes para economizar memória\n",
        "    for i in tqdm(range(0, len(image_paths), BATCH_SIZE)):\n",
        "        batch_paths = image_paths[i:i+BATCH_SIZE]\n",
        "        batch_images = []\n",
        "        valid_paths = []\n",
        "\n",
        "        # Carregar e pré-processar imagens\n",
        "        for img_path in batch_paths:\n",
        "            try:\n",
        "                img = tf.keras.preprocessing.image.load_img(img_path, target_size=IMAGE_SIZE)\n",
        "                img_array = tf.keras.preprocessing.image.img_to_array(img)\n",
        "                batch_images.append(img_array)\n",
        "                valid_paths.append(img_path)\n",
        "            except Exception as e:\n",
        "                print(f\"Erro ao processar {img_path}: {e}\")\n",
        "                continue\n",
        "\n",
        "        if batch_images:\n",
        "            try:\n",
        "                # Converter para tensor e normalizar\n",
        "                batch_arrays = tf.convert_to_tensor(batch_images, dtype=tf.float32) / 255.0\n",
        "\n",
        "                # Gerar embeddings em lote\n",
        "                batch_embeddings = feature_extractor(batch_arrays)\n",
        "                embeddings.extend(batch_embeddings.numpy())\n",
        "                image_paths.extend(valid_paths)\n",
        "            except Exception as e:\n",
        "                print(f\"Erro ao gerar embeddings: {e}\")\n",
        "                continue\n",
        "\n",
        "    return image_paths[:len(embeddings)], np.array(embeddings)\n",
        "\n",
        "# 4. Construir índice de similaridade\n",
        "def build_similarity_index(embeddings, metric='angular'):\n",
        "    \"\"\"Constrói o índice Annoy para busca por similaridade\"\"\"\n",
        "    if len(embeddings) == 0:\n",
        "        raise ValueError(\"Nenhum embedding foi gerado\")\n",
        "\n",
        "    index = AnnoyIndex(embeddings.shape[1], metric)\n",
        "\n",
        "    for i, embedding in enumerate(embeddings):\n",
        "        index.add_item(i, embedding)\n",
        "\n",
        "    index.build(10)  # 10 árvores\n",
        "    return index\n",
        "\n",
        "# 5. Sistema de recomendação\n",
        "class ImageRecommender:\n",
        "    def __init__(self, image_paths, embeddings):\n",
        "        self.image_paths = image_paths\n",
        "        self.embeddings = embeddings\n",
        "        if embeddings is not None and len(embeddings) > 0:\n",
        "            self.index = build_similarity_index(embeddings)\n",
        "        else:\n",
        "            self.index = None\n",
        "            print(\"Aviso: Nenhum embedding disponível\")\n",
        "\n",
        "    def get_similar_images(self, query_image_path, feature_extractor, num_results=5):\n",
        "        \"\"\"Encontra imagens similares\"\"\"\n",
        "        try:\n",
        "            # Processar imagem de consulta\n",
        "            query_img = tf.keras.preprocessing.image.load_img(query_image_path, target_size=IMAGE_SIZE)\n",
        "            query_array = tf.keras.preprocessing.image.img_to_array(query_img)\n",
        "            query_array = tf.expand_dims(query_array, 0) / 255.0\n",
        "\n",
        "            # Gerar embedding da consulta\n",
        "            query_embedding = feature_extractor(query_array).numpy()[0]\n",
        "\n",
        "            # Buscar similares\n",
        "            similar_indices = self.index.get_nns_by_vector(query_embedding, num_results + 1)[1:]\n",
        "            similar_paths = [self.image_paths[i] for i in similar_indices if i < len(self.image_paths)]\n",
        "\n",
        "            return similar_paths\n",
        "        except Exception as e:\n",
        "            print(f\"Erro ao buscar imagens similares: {e}\")\n",
        "            return []\n",
        "\n",
        "    def display_similar_images(self, query_path, similar_paths):\n",
        "        \"\"\"Exibe a imagem de consulta e as similares\"\"\"\n",
        "        if not similar_paths:\n",
        "            print(\"Nenhuma imagem similar encontrada\")\n",
        "            return\n",
        "\n",
        "        plt.figure(figsize=(15, 5))\n",
        "\n",
        "        # Imagem de consulta\n",
        "        plt.subplot(1, len(similar_paths) + 1, 1)\n",
        "        try:\n",
        "            plt.imshow(mpimg.imread(query_path))\n",
        "            plt.title('Consulta')\n",
        "            plt.axis('off')\n",
        "        except:\n",
        "            plt.title('Erro ao carregar consulta')\n",
        "            plt.axis('off')\n",
        "\n",
        "        # Imagens similares\n",
        "        for i, path in enumerate(similar_paths):\n",
        "            plt.subplot(1, len(similar_paths) + 1, i + 2)\n",
        "            try:\n",
        "                plt.imshow(mpimg.imread(path))\n",
        "                plt.title(f'Similar {i+1}')\n",
        "                plt.axis('off')\n",
        "            except:\n",
        "                plt.title(f'Erro ao carregar {i+1}')\n",
        "                plt.axis('off')\n",
        "\n",
        "        plt.tight_layout()\n",
        "        plt.show()"
      ]
    },
    {
      "cell_type": "code",
      "source": [
        "# 1. Preparar dataset\n",
        "print(\"Preparando dataset...\")\n",
        "prepare_fashion_dataset()"
      ],
      "metadata": {
        "colab": {
          "base_uri": "https://localhost:8080/"
        },
        "id": "f02yhPzFz0-o",
        "outputId": "738064ff-6bd3-4772-8d07-00b4bb496620"
      },
      "execution_count": 58,
      "outputs": [
        {
          "output_type": "stream",
          "name": "stdout",
          "text": [
            "Preparando dataset...\n",
            "replace images/22885.jpg? [y]es, [n]o, [A]ll, [N]one, [r]ename: N\n"
          ]
        },
        {
          "output_type": "stream",
          "name": "stderr",
          "text": [
            "100%|██████████| 44441/44441 [03:20<00:00, 221.78it/s]"
          ]
        },
        {
          "output_type": "stream",
          "name": "stdout",
          "text": [
            "Preparação do dataset concluída!\n"
          ]
        },
        {
          "output_type": "stream",
          "name": "stderr",
          "text": [
            "\n"
          ]
        }
      ]
    },
    {
      "cell_type": "code",
      "source": [
        "# 2. Criar extrator de características\n",
        "print(\"Criando extrator de características...\")\n",
        "feature_extractor = create_feature_extractor()\n",
        "\n",
        "print(\"Feature extractor criado com sucesso!\")\n",
        "print(\"Resumo do modelo:\")\n",
        "feature_extractor.summary()"
      ],
      "metadata": {
        "colab": {
          "base_uri": "https://localhost:8080/",
          "height": 447
        },
        "id": "23AHRIl4z6rW",
        "outputId": "513e7baf-6d9d-43f5-cc77-06dd62b74e10"
      },
      "execution_count": 59,
      "outputs": [
        {
          "output_type": "stream",
          "name": "stdout",
          "text": [
            "Criando extrator de características...\n",
            "Erro com abordagem funcional: Exception encountered when calling layer 'keras_layer_13' (type KerasLayer).\n",
            "\n",
            "A KerasTensor is symbolic: it's a placeholder for a shape an a dtype. It doesn't have any actual numerical value. You cannot convert it to a NumPy array.\n",
            "\n",
            "Call arguments received by layer 'keras_layer_13' (type KerasLayer):\n",
            "  • inputs=<KerasTensor shape=(None, 224, 224, 3), dtype=float32, sparse=False, ragged=False, name=keras_tensor_650>\n",
            "  • training=None\n",
            "Tentando abordagem alternativa...\n"
          ]
        },
        {
          "output_type": "stream",
          "name": "stderr",
          "text": [
            "/usr/local/lib/python3.12/dist-packages/keras/src/layers/core/input_layer.py:27: UserWarning: Argument `input_shape` is deprecated. Use `shape` instead.\n",
            "  warnings.warn(\n"
          ]
        },
        {
          "output_type": "stream",
          "name": "stdout",
          "text": [
            "Feature extractor criado com sucesso!\n",
            "Resumo do modelo:\n"
          ]
        },
        {
          "output_type": "display_data",
          "data": {
            "text/plain": [
              "\u001b[1mModel: \"sequential_13\"\u001b[0m\n"
            ],
            "text/html": [
              "<pre style=\"white-space:pre;overflow-x:auto;line-height:normal;font-family:Menlo,'DejaVu Sans Mono',consolas,'Courier New',monospace\"><span style=\"font-weight: bold\">Model: \"sequential_13\"</span>\n",
              "</pre>\n"
            ]
          },
          "metadata": {}
        },
        {
          "output_type": "display_data",
          "data": {
            "text/plain": [
              "┏━━━━━━━━━━━━━━━━━━━━━━━━━━━━━━━━━┳━━━━━━━━━━━━━━━━━━━━━━━━┳━━━━━━━━━━━━━━━┓\n",
              "┃\u001b[1m \u001b[0m\u001b[1mLayer (type)                   \u001b[0m\u001b[1m \u001b[0m┃\u001b[1m \u001b[0m\u001b[1mOutput Shape          \u001b[0m\u001b[1m \u001b[0m┃\u001b[1m \u001b[0m\u001b[1m      Param #\u001b[0m\u001b[1m \u001b[0m┃\n",
              "┡━━━━━━━━━━━━━━━━━━━━━━━━━━━━━━━━━╇━━━━━━━━━━━━━━━━━━━━━━━━╇━━━━━━━━━━━━━━━┩\n",
              "│ lambda_4 (\u001b[38;5;33mLambda\u001b[0m)               │ (\u001b[38;5;45mNone\u001b[0m, \u001b[38;5;34m224\u001b[0m, \u001b[38;5;34m224\u001b[0m, \u001b[38;5;34m3\u001b[0m)    │             \u001b[38;5;34m0\u001b[0m │\n",
              "├─────────────────────────────────┼────────────────────────┼───────────────┤\n",
              "│ mobilenetv2_1.00_224            │ (\u001b[38;5;45mNone\u001b[0m, \u001b[38;5;34m1280\u001b[0m)           │     \u001b[38;5;34m2,257,984\u001b[0m │\n",
              "│ (\u001b[38;5;33mFunctional\u001b[0m)                    │                        │               │\n",
              "└─────────────────────────────────┴────────────────────────┴───────────────┘\n"
            ],
            "text/html": [
              "<pre style=\"white-space:pre;overflow-x:auto;line-height:normal;font-family:Menlo,'DejaVu Sans Mono',consolas,'Courier New',monospace\">┏━━━━━━━━━━━━━━━━━━━━━━━━━━━━━━━━━┳━━━━━━━━━━━━━━━━━━━━━━━━┳━━━━━━━━━━━━━━━┓\n",
              "┃<span style=\"font-weight: bold\"> Layer (type)                    </span>┃<span style=\"font-weight: bold\"> Output Shape           </span>┃<span style=\"font-weight: bold\">       Param # </span>┃\n",
              "┡━━━━━━━━━━━━━━━━━━━━━━━━━━━━━━━━━╇━━━━━━━━━━━━━━━━━━━━━━━━╇━━━━━━━━━━━━━━━┩\n",
              "│ lambda_4 (<span style=\"color: #0087ff; text-decoration-color: #0087ff\">Lambda</span>)               │ (<span style=\"color: #00d7ff; text-decoration-color: #00d7ff\">None</span>, <span style=\"color: #00af00; text-decoration-color: #00af00\">224</span>, <span style=\"color: #00af00; text-decoration-color: #00af00\">224</span>, <span style=\"color: #00af00; text-decoration-color: #00af00\">3</span>)    │             <span style=\"color: #00af00; text-decoration-color: #00af00\">0</span> │\n",
              "├─────────────────────────────────┼────────────────────────┼───────────────┤\n",
              "│ mobilenetv2_1.00_224            │ (<span style=\"color: #00d7ff; text-decoration-color: #00d7ff\">None</span>, <span style=\"color: #00af00; text-decoration-color: #00af00\">1280</span>)           │     <span style=\"color: #00af00; text-decoration-color: #00af00\">2,257,984</span> │\n",
              "│ (<span style=\"color: #0087ff; text-decoration-color: #0087ff\">Functional</span>)                    │                        │               │\n",
              "└─────────────────────────────────┴────────────────────────┴───────────────┘\n",
              "</pre>\n"
            ]
          },
          "metadata": {}
        },
        {
          "output_type": "display_data",
          "data": {
            "text/plain": [
              "\u001b[1m Total params: \u001b[0m\u001b[38;5;34m2,257,984\u001b[0m (8.61 MB)\n"
            ],
            "text/html": [
              "<pre style=\"white-space:pre;overflow-x:auto;line-height:normal;font-family:Menlo,'DejaVu Sans Mono',consolas,'Courier New',monospace\"><span style=\"font-weight: bold\"> Total params: </span><span style=\"color: #00af00; text-decoration-color: #00af00\">2,257,984</span> (8.61 MB)\n",
              "</pre>\n"
            ]
          },
          "metadata": {}
        },
        {
          "output_type": "display_data",
          "data": {
            "text/plain": [
              "\u001b[1m Trainable params: \u001b[0m\u001b[38;5;34m2,223,872\u001b[0m (8.48 MB)\n"
            ],
            "text/html": [
              "<pre style=\"white-space:pre;overflow-x:auto;line-height:normal;font-family:Menlo,'DejaVu Sans Mono',consolas,'Courier New',monospace\"><span style=\"font-weight: bold\"> Trainable params: </span><span style=\"color: #00af00; text-decoration-color: #00af00\">2,223,872</span> (8.48 MB)\n",
              "</pre>\n"
            ]
          },
          "metadata": {}
        },
        {
          "output_type": "display_data",
          "data": {
            "text/plain": [
              "\u001b[1m Non-trainable params: \u001b[0m\u001b[38;5;34m34,112\u001b[0m (133.25 KB)\n"
            ],
            "text/html": [
              "<pre style=\"white-space:pre;overflow-x:auto;line-height:normal;font-family:Menlo,'DejaVu Sans Mono',consolas,'Courier New',monospace\"><span style=\"font-weight: bold\"> Non-trainable params: </span><span style=\"color: #00af00; text-decoration-color: #00af00\">34,112</span> (133.25 KB)\n",
              "</pre>\n"
            ]
          },
          "metadata": {}
        }
      ]
    },
    {
      "cell_type": "code",
      "source": [
        "# 3. Processar imagens\n",
        "print(\"Processando imagens e gerando embeddings...\")\n",
        "image_dir = '/content/Fashion_data/categories'\n",
        "image_paths, embeddings = process_images_and_generate_embeddings(feature_extractor, image_dir)\n",
        "\n",
        "print(f\"Processadas {len(image_paths)} imagens\")\n",
        "print(f\"Embeddings shape: {embeddings.shape}\")"
      ],
      "metadata": {
        "colab": {
          "base_uri": "https://localhost:8080/"
        },
        "id": "gHg5SfUL0HAH",
        "outputId": "1f1c3989-5690-4817-bb66-433d303564c8"
      },
      "execution_count": 60,
      "outputs": [
        {
          "output_type": "stream",
          "name": "stdout",
          "text": [
            "Processando imagens e gerando embeddings...\n"
          ]
        },
        {
          "output_type": "stream",
          "name": "stderr",
          "text": [
            "100%|██████████| 10/10 [00:31<00:00,  3.15s/it]"
          ]
        },
        {
          "output_type": "stream",
          "name": "stdout",
          "text": [
            "Processadas 320 imagens\n",
            "Embeddings shape: (320, 1280)\n"
          ]
        },
        {
          "output_type": "stream",
          "name": "stderr",
          "text": [
            "\n"
          ]
        }
      ]
    },
    {
      "cell_type": "code",
      "source": [
        "# 4. Criar sistema de recomendação\n",
        "print(\"Construindo sistema de recomendação...\")\n",
        "recommender = ImageRecommender(image_paths, embeddings)"
      ],
      "metadata": {
        "colab": {
          "base_uri": "https://localhost:8080/"
        },
        "id": "ekaPT6XP0JZU",
        "outputId": "f559e069-feed-4ba5-f6f1-9ede92c1a1f7"
      },
      "execution_count": 61,
      "outputs": [
        {
          "output_type": "stream",
          "name": "stdout",
          "text": [
            "Construindo sistema de recomendação...\n"
          ]
        }
      ]
    },
    {
      "cell_type": "code",
      "source": [
        "# 5. Testar com uma imagem aleatória\n",
        "print(\"Testando o sistema...\")\n",
        "if image_paths:\n",
        "  random_image = random.choice(image_paths)\n",
        "  print(f\"Imagem de teste: {random_image}\")\n",
        "\n",
        "  similar_images = recommender.get_similar_images(random_image, feature_extractor, 3)\n",
        "\n",
        "  if similar_images:\n",
        "    # 6. Mostrar resultados\n",
        "    recommender.display_similar_images(random_image, similar_images)\n",
        "  else:\n",
        "    print(\"Nenhuma imagem similar encontrada.\")\n",
        "else:\n",
        "  print(\"Nenhuma imagem foi processada.\")"
      ],
      "metadata": {
        "colab": {
          "base_uri": "https://localhost:8080/",
          "height": 564
        },
        "id": "T5osB2-Y0PC1",
        "outputId": "cc991cce-f24e-44d2-edb4-af13e9d26964"
      },
      "execution_count": 62,
      "outputs": [
        {
          "output_type": "stream",
          "name": "stdout",
          "text": [
            "Testando o sistema...\n",
            "Imagem de teste: /content/Fashion_data/categories/Footwear/49460.jpg\n"
          ]
        },
        {
          "output_type": "display_data",
          "data": {
            "text/plain": [
              "<Figure size 1500x500 with 4 Axes>"
            ],
            "image/png": "[encoded data removed]"
          },
          "metadata": {}
        }
      ]
    }
  ]
}